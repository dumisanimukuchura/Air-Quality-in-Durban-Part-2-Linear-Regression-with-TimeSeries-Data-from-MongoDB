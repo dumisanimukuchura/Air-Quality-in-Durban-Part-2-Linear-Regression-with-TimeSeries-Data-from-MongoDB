{
 "cells": [
  {
   "cell_type": "markdown",
   "id": "cfa9aa96-3c69-493a-b103-facd7a04726e",
   "metadata": {},
   "source": [
    "## Air-Quality-in-Durban-Part-2-Linear-Regression-with-TimeSeries-Data-from-MongoDB by Dumisani Maxwell Mukuchura\n",
    "\n",
    "#### Dataset Source: *https://open.africa/dataset/sensorsafrica-airquality-archive-durban*\n",
    "\n",
    "##### Contact: dumisanimukuchura@gmail.com | LinkedIn: https://www.linkedin.com/in/dumisani-maxwell-mukuchura-4859b7170/\n",
    "\n",
    "##### This Project will explore the time series dataset for Air Quality and will predict P2.5 values using Linear Regression Model \n",
    "\n",
    "Kindly note this was done from a Local machine on Windows with a locally hosted database using Mongo DB, Mongo DB Compass and MongoDB Shell i.e a NoSQL database.  "
   ]
  },
  {
   "cell_type": "code",
   "execution_count": null,
   "id": "eaee7875-a18f-4646-89dc-71e6cf90cf60",
   "metadata": {},
   "outputs": [],
   "source": []
  }
 ],
 "metadata": {
  "kernelspec": {
   "display_name": "Python 3 (ipykernel)",
   "language": "python",
   "name": "python3"
  },
  "language_info": {
   "codemirror_mode": {
    "name": "ipython",
    "version": 3
   },
   "file_extension": ".py",
   "mimetype": "text/x-python",
   "name": "python",
   "nbconvert_exporter": "python",
   "pygments_lexer": "ipython3",
   "version": "3.12.4"
  }
 },
 "nbformat": 4,
 "nbformat_minor": 5
}
